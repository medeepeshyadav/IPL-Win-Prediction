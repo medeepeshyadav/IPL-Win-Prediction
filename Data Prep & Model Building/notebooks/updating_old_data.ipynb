{
 "cells": [
  {
   "cell_type": "markdown",
   "id": "8383bc20-7b82-48c3-8322-6b7b07e0d3ff",
   "metadata": {},
   "source": [
    "### Updating old data\n",
    "- Renaming team names\n",
    "- Replacing name of redundant venues"
   ]
  },
  {
   "cell_type": "code",
   "execution_count": 22,
   "id": "24dd6d4c-b5b1-4b3d-8885-551b5098cd2e",
   "metadata": {},
   "outputs": [],
   "source": [
    "import pandas as pd"
   ]
  },
  {
   "cell_type": "code",
   "execution_count": 23,
   "id": "5d29567a-03a4-418f-83df-c3aa45e99292",
   "metadata": {},
   "outputs": [],
   "source": [
    "df = pd.read_csv(\"../input/IPL Ball-by-Ball 2008-2020.csv\")\n",
    "df2 = pd.read_csv(\"../input/IPL Matches 2008-2020.csv\")"
   ]
  },
  {
   "cell_type": "code",
   "execution_count": null,
   "id": "2aac94c4-6ad6-46af-9e84-ce3a0417e1f8",
   "metadata": {},
   "outputs": [],
   "source": [
    "df.drop('Unnamed: 0', axis=1, inplace=True)\n",
    "df2.drop('Unnamed: 0', axis=1, inplace=True)"
   ]
  },
  {
   "cell_type": "code",
   "execution_count": 25,
   "id": "fac4966f-d5a2-4e95-98b9-613121825a28",
   "metadata": {},
   "outputs": [
    {
     "data": {
      "text/plain": [
       "10"
      ]
     },
     "execution_count": 25,
     "metadata": {},
     "output_type": "execute_result"
    }
   ],
   "source": [
    "#updating the team data as there are new teams in 2022 IPL\n",
    "teams = ['Mumbai Indians',\n",
    "         'Chennai Super Kings',\n",
    "         'Sunrisers Hyderabad',\n",
    "         'Kolkata Knight Riders',\n",
    "         'Royal Challengers Bangalore',\n",
    "         'Delhi Capitals',\n",
    "         'Punjab Kings',\n",
    "         'Gujarat Titans',\n",
    "         'Rajasthan Royals',\n",
    "         'Lucknow Super Giants']\n",
    "len(teams)"
   ]
  },
  {
   "cell_type": "code",
   "execution_count": 26,
   "id": "028bc1d6-0ba2-4169-b722-d29737459613",
   "metadata": {},
   "outputs": [],
   "source": [
    "#Changing old team name with new team name\n",
    "df2['team1'] = df2['team1'].str.replace('Delhi Daredevils','Delhi Capitals')\n",
    "df2['team2'] = df2['team2'].str.replace('Delhi Daredevils','Delhi Capitals')\n",
    "df2['team1'] = df2['team1'].str.replace('Deccan Chargers','Sunrisers Hyderabad')\n",
    "df2['team2'] = df2['team2'].str.replace('Deccan Chargers','Sunrisers Hyderabad')\n",
    "df2['team1'] = df2['team1'].str.replace('Kings XI Punjab','Punjab Kings')\n",
    "df2['team2'] = df2['team2'].str.replace('Kings XI Punjab','Punjab Kings')\n",
    "df2['team1'] = df2['team1'].str.replace('Gujarat Lions','Gujarat Titans')\n",
    "df2['team2'] = df2['team2'].str.replace('Gujarat Lions','Gujarat Titans')"
   ]
  },
  {
   "cell_type": "code",
   "execution_count": 27,
   "id": "db94d507-26d9-469e-a7c8-3bee371562e4",
   "metadata": {},
   "outputs": [],
   "source": [
    "df2['winner'] = df2['winner'].str.replace('Delhi Daredevils','Delhi Capitals')\n",
    "df2['winner'] = df2['winner'].str.replace('Deccan Chargers','Sunrisers Hyderabad')\n",
    "df2['winner'] = df2['winner'].str.replace('Kings XI Punjab','Punjab Kings')\n",
    "df2['winner'] = df2['winner'].str.replace('Gujarat Lions','Gujarat Titans')"
   ]
  },
  {
   "cell_type": "code",
   "execution_count": 28,
   "id": "7f11db7e-5b49-44bc-a322-1e1b110ea8f9",
   "metadata": {},
   "outputs": [],
   "source": [
    "df['batting_team'] = df['batting_team'].str.replace('Delhi Daredevils','Delhi Capitals')\n",
    "df['bowling_team'] = df['bowling_team'].str.replace('Delhi Daredevils','Delhi Capitals')\n",
    "df['batting_team'] = df['batting_team'].str.replace('Deccan Chargers','Sunrisers Hyderabad')\n",
    "df['bowling_team'] = df['bowling_team'].str.replace('Deccan Chargers','Sunrisers Hyderabad')\n",
    "df['batting_team'] = df['batting_team'].str.replace('Kings XI Punjab','Punjab Kings')\n",
    "df['bowling_team'] = df['bowling_team'].str.replace('Kings XI Punjab','Punjab Kings')\n",
    "df['batting_team'] = df['batting_team'].str.replace('Gujarat Lions','Gujarat Titans')\n",
    "df['bowling_team'] = df['bowling_team'].str.replace('Gujarat Lions','Gujarat Titans')"
   ]
  },
  {
   "cell_type": "code",
   "execution_count": 29,
   "id": "cdba0db3-e7da-4789-93e3-cf99dda7369e",
   "metadata": {},
   "outputs": [
    {
     "data": {
      "text/plain": [
       "array(['M Chinnaswamy Stadium',\n",
       "       'Punjab Cricket Association IS Bindra Stadium', 'Feroz Shah Kotla',\n",
       "       'Wankhede Stadium', 'Eden Gardens', 'Sawai Mansingh Stadium',\n",
       "       'Rajiv Gandhi International Stadium',\n",
       "       'MA Chidambaram Stadium, Chepauk', 'Dr DY Patil Sports Academy',\n",
       "       'Newlands', \"St George's Park\", 'Kingsmead', 'SuperSport Park',\n",
       "       'Buffalo Park', 'New Wanderers Stadium', 'De Beers Diamond Oval',\n",
       "       'OUTsurance Oval', 'Brabourne Stadium',\n",
       "       'Sardar Patel Stadium, Motera', 'Barabati Stadium',\n",
       "       'Vidarbha Cricket Association Stadium',\n",
       "       'Himachal Pradesh Cricket Association Stadium', 'Nehru Stadium',\n",
       "       'Holkar Cricket Stadium',\n",
       "       'Dr. Y.S. Rajasekhara Reddy ACA-VDCA Cricket Stadium',\n",
       "       'Subrata Roy Sahara Stadium',\n",
       "       'Shaheed Veer Narayan Singh International Stadium',\n",
       "       'JSCA International Stadium Complex', 'Sheikh Zayed Stadium',\n",
       "       'Sharjah Cricket Stadium', 'Dubai International Cricket Stadium',\n",
       "       'Maharashtra Cricket Association Stadium',\n",
       "       'Saurashtra Cricket Association Stadium', 'Green Park'],\n",
       "      dtype=object)"
      ]
     },
     "execution_count": 29,
     "metadata": {},
     "output_type": "execute_result"
    }
   ],
   "source": [
    "df2.venue.unique()"
   ]
  },
  {
   "cell_type": "code",
   "execution_count": 30,
   "id": "48b2d4fe-474c-404d-942b-63557b020220",
   "metadata": {},
   "outputs": [],
   "source": [
    "#Correcting the redundant venue names in data\n",
    "df2['venue'] = df2['venue'].replace(\n",
    "    {'M.Chinnaswamy Stadium':'M Chinnaswamy Stadium',\n",
    "     'Punjab Cricket Association Stadium, Mohali':'Punjab Cricket Association IS Bindra Stadium',\n",
    "     'Rajiv Gandhi International Stadium, Uppal':'Rajiv Gandhi International Stadium',\n",
    "     'Punjab Cricket Association IS Bindra Stadium, Mohali':'Punjab Cricket Association IS Bindra Stadium',\n",
    "     'Vidarbha Cricket Association Stadium, Jamtha':'Vidarbha Cricket Association Stadium'\n",
    "    }\n",
    ")"
   ]
  },
  {
   "cell_type": "code",
   "execution_count": 31,
   "id": "1c164536-2ed3-445f-8a63-ee70b74836aa",
   "metadata": {},
   "outputs": [],
   "source": [
    "df.to_csv(\"../input/IPL Ball-by-Ball 2008-2020.csv\", index=False)\n",
    "df2.to_csv(\"../input/IPL Matches 2008-2020.csv\", index=False)"
   ]
  },
  {
   "cell_type": "code",
   "execution_count": null,
   "id": "6f15d877-61c9-4d29-bb70-b6453a5eb667",
   "metadata": {},
   "outputs": [],
   "source": []
  }
 ],
 "metadata": {
  "kernelspec": {
   "display_name": "Python 3 (ipykernel)",
   "language": "python",
   "name": "python3"
  },
  "language_info": {
   "codemirror_mode": {
    "name": "ipython",
    "version": 3
   },
   "file_extension": ".py",
   "mimetype": "text/x-python",
   "name": "python",
   "nbconvert_exporter": "python",
   "pygments_lexer": "ipython3",
   "version": "3.10.8"
  }
 },
 "nbformat": 4,
 "nbformat_minor": 5
}
